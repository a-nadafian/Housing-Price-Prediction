{
 "cells": [
  {
   "cell_type": "markdown",
   "metadata": {},
   "source": [
    "# 4. Model Training and Evaluation\n",
    "\n",
    "In this notebook, we will train and evaluate our machine learning models on the preprocessed data. We will compare the performance of a simple Linear Regression model with a more complex Random Forest model."
   ],
   "id": "108a3ec5797e2899"
  },
  {
   "cell_type": "code",
   "id": "e2d5bac9704d009b",
   "metadata": {
    "ExecuteTime": {
     "end_time": "2025-09-23T08:38:31.368544Z",
     "start_time": "2025-09-23T08:38:31.138753Z"
    }
   },
   "source": [
    "import os\n",
    "import pandas as pd\n",
    "from sklearn.linear_model import LinearRegression\n",
    "from sklearn.ensemble import RandomForestRegressor\n",
    "from sklearn.metrics import r2_score"
   ],
   "outputs": [],
   "execution_count": 1
  },
  {
   "cell_type": "markdown",
   "metadata": {},
   "source": [
    "## Data Loading"
   ],
   "id": "ea681855107eff6"
  },
  {
   "cell_type": "code",
   "id": "38b076e1f69e35c",
   "metadata": {
    "ExecuteTime": {
     "end_time": "2025-09-23T08:38:31.479673Z",
     "start_time": "2025-09-23T08:38:31.468538Z"
    }
   },
   "source": [
    "# Load the processed data\n",
    "input_data_dir = os.path.join(\"..\", \"data\", \"processed\")\n",
    "X_train = pd.read_csv(os.path.join(input_data_dir, \"X_train_processed.csv\"))\n",
    "y_train = pd.read_csv(os.path.join(input_data_dir, \"y_train_processed.csv\"))\n",
    "X_test = pd.read_csv(os.path.join(input_data_dir, \"X_test_processed.csv\"))\n",
    "y_test = pd.read_csv(os.path.join(input_data_dir, \"y_test_processed.csv\"))\n",
    "\n",
    "# Convert y_train and y_test to 1D arrays\n",
    "y_train = y_train.values.ravel()\n",
    "y_test = y_test.values.ravel()\n",
    "\n",
    "print(\"X_train shape:\", X_train.shape)\n",
    "print(\"y_train shape:\", y_train.shape)\n",
    "print(\"X_test shape:\", X_test.shape)\n",
    "print(\"y_test shape:\", y_test.shape)\n"
   ],
   "outputs": [
    {
     "name": "stdout",
     "output_type": "stream",
     "text": [
      "X_train shape: (431, 13)\n",
      "y_train shape: (431,)\n",
      "X_test shape: (108, 13)\n",
      "y_test shape: (108,)\n"
     ]
    }
   ],
   "execution_count": 2
  },
  {
   "cell_type": "markdown",
   "metadata": {},
   "source": [
    "## Model Training and Evaluation"
   ],
   "id": "53e9c2dd3d8df732"
  },
  {
   "cell_type": "code",
   "id": "89351b6427ee3b8b",
   "metadata": {
    "ExecuteTime": {
     "end_time": "2025-09-23T08:38:31.670639Z",
     "start_time": "2025-09-23T08:38:31.494909Z"
    }
   },
   "source": [
    "# Train and evaluate the Linear Regression model\n",
    "lr_model = LinearRegression()\n",
    "lr_model.fit(X_train, y_train)\n",
    "y_pred_lr = lr_model.predict(X_test)\n",
    "r2_lr = r2_score(y_test, y_pred_lr)\n",
    "\n",
    "# Train and evaluate the Random Forest model\n",
    "rf_model = RandomForestRegressor(random_state=42)\n",
    "rf_model.fit(X_train, y_train)\n",
    "y_pred_rf = rf_model.predict(X_test)\n",
    "r2_rf = r2_score(y_test, y_pred_rf)\n",
    "\n",
    "print(\"--- Final Model Performance Comparison ---\")\n",
    "print(f\"Linear Regression R-squared: {r2_lr:.4f}\")\n",
    "print(f\"Random Forest R-squared: {r2_rf:.4f}\")"
   ],
   "outputs": [
    {
     "name": "stdout",
     "output_type": "stream",
     "text": [
      "--- Final Model Performance Comparison ---\n",
      "Linear Regression R-squared: 0.7110\n",
      "Random Forest R-squared: 0.6267\n"
     ]
    }
   ],
   "execution_count": 3
  },
  {
   "cell_type": "markdown",
   "metadata": {},
   "source": [
    "## Conclusion\n",
    "\n",
    "After removing the data leakage and retraining the models, we can see that the R-squared scores are much more realistic. The Linear Regression model achieves an R-squared of around 0.71, while the Random Forest model achieves a score of around 0.63. This indicates that the overfitting issue has been resolved. Interestingly, the simpler Linear Regression model outperforms the more complex Random Forest model on this dataset. This suggests that a linear model might be a better fit for this particular problem."
   ],
   "id": "3d972c29a552db76"
  }
 ],
 "metadata": {
  "kernelspec": {
   "display_name": "Python 3",
   "language": "python",
   "name": "python3"
  },
  "language_info": {
   "codemirror_mode": {
    "name": "ipython",
    "version": 2
   },
   "file_extension": ".py",
   "mimetype": "text/x-python",
   "name": "python",
   "nbconvert_exporter": "python",
   "pygments_lexer": "ipython2",
   "version": "2.7.6"
  }
 },
 "nbformat": 4,
 "nbformat_minor": 5
}
