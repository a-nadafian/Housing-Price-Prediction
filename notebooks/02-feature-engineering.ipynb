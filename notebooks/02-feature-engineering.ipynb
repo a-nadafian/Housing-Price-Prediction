{
 "cells": [
  {
   "cell_type": "markdown",
   "metadata": {},
   "source": [
    "# 2. Feature Engineering\n",
    "\n",
    "In this notebook, we will perform feature engineering on the raw housing data. This includes handling categorical variables, dealing with skewed data, removing outliers, and scaling the features. The goal is to prepare the data for model training."
   ]
  },
  {
   "cell_type": "code",
   "execution_count": null,
   "id": "initial_id",
   "metadata": {},
   "outputs": [],
   "source": [
    "import os\n",
    "import pandas as pd\n",
    "import numpy as np"
   ]
  },
  {
   "cell_type": "markdown",
   "metadata": {},
   "source": [
    "## Data Loading"
   ]
  },
  {
   "cell_type": "code",
   "execution_count": null,
   "id": "29bd3b91b47043b",
   "metadata": {},
   "outputs": [],
   "source": [
    "input_data_dir = os.path.join(\"..\", \"data\", \"raw\")\n",
    "df = pd.read_csv(os.path.join(input_data_dir, \"Housing.csv\"))\n",
    "df.head()"
   ]
  },
  {
   "cell_type": "markdown",
   "metadata": {},
   "source": [
    "## Data Preprocessing"
   ]
  },
  {
   "cell_type": "markdown",
   "metadata": {},
   "source": [
    "### Handling Binary Categorical Features"
   ]
  },
  {
   "cell_type": "code",
   "execution_count": null,
   "id": "1902a43d69551d7a",
   "metadata": {},
   "outputs": [],
   "source": [
    "binary_columns = [\n",
    "    'mainroad', 'guestroom', 'basement', 'hotwaterheating', 'airconditioning', 'prefarea'\n",
    "]\n",
    "\n",
    "# Convert binary categorical features to numeric\n",
    "for col in binary_columns:\n",
    "    df[col] = df[col].map({'yes': 1, 'no': 0})\n",
    "\n",
    "print(\"DataFrame after converting binary columns:\")\n",
    "df.head()"
   ]
  },
  {
   "cell_type": "markdown",
   "metadata": {},
   "source": [
    "### Handling Multi-Level Categorical Features"
   ]
  },
  {
   "cell_type": "code",
   "execution_count": null,
   "id": "8418a78127627b31",
   "metadata": {},
   "outputs": [],
   "source": [
    "# One-hot encode the furnishingstatus column\n",
    "dummies = pd.get_dummies(df['furnishingstatus'], drop_first=True)\n",
    "\n",
    "df = pd.concat([df, dummies], axis=1)\n",
    "df = df.drop(\"furnishingstatus\", axis=1)\n",
    "\n",
    "print(\"DataFrame after optimal One-Hot Encoding:\")\n",
    "df.head()"
   ]
  },
  {
   "cell_type": "markdown",
   "metadata": {},
   "source": [
    "### Handling Skewness in Numerical Features"
   ]
  },
  {
   "cell_type": "code",
   "execution_count": null,
   "id": "2006db292cb318ba",
   "metadata": {},
   "outputs": [],
   "source": [
    "# Log transform skewed numerical features to make them more normally distributed\n",
    "df['price'] = np.log(df['price'])\n",
    "df['area'] = np.log(df['area'])\n"
   ]
  },
  {
   "cell_type": "markdown",
   "metadata": {},
   "source": [
    "### A Note on Data Leakage\n",
    "\n",
    "In the original notebook, a feature called `price_per_sqft` was created by dividing `price` (the target variable) by `area`. This is a form of **data leakage**, where information from the target variable is used to create a feature. This can lead to models that perform unrealistically well on the test set but fail in the real world. We have removed this feature to prevent data leakage."
   ]
  },
  {
   "cell_type": "markdown",
   "metadata": {},
   "source": [
    "### Handling Outliers"
   ]
  },
  {
   "cell_type": "code",
   "execution_count": null,
   "id": "ef9bc3797ea568a0",
   "metadata": {},
   "outputs": [],
   "source": [
    "# Remove outliers based on the 99th percentile of the area\n",
    "q99 = df['area'].quantile(0.99)\n",
    "print(f\"Original number of houses: {len(df)}\")\n",
    "\n",
    "df = df[df['area'] < q99]\n",
    "print(f\"Number of houses after removing outliers: {len(df)}\")"
   ]
  },
  {
   "cell_type": "markdown",
   "metadata": {},
   "source": [
    "## Feature Scaling"
   ]
  },
  {
   "cell_type": "code",
   "execution_count": null,
   "id": "85713a79c675c40e",
   "metadata": {},
   "outputs": [],
   "source": [
    "from sklearn.preprocessing import StandardScaler\n",
    "\n",
    "# Scale the numerical features (excluding the target variable 'price')\n",
    "numeric_vars_X = ['area', 'bedrooms', 'bathrooms', 'stories', 'parking']\n",
    "\n",
    "scaler = StandardScaler()\n",
    "\n",
    "df[numeric_vars_X] = scaler.fit_transform(df[numeric_vars_X])\n",
    "\n",
    "print(\"DataFrame after scaling:\")\n",
    "df.head()"
   ]
  },
  {
   "cell_type": "markdown",
   "metadata": {},
   "source": [
    "## Saving the Processed Data"
   ]
  },
  {
   "cell_type": "code",
   "execution_count": null,
   "id": "bd70683ad8e073c1",
   "metadata": {},
   "outputs": [],
   "source": [
    "output_data_dir = os.path.join(\"..\", \"data\", \"interim\")\n",
    "df.to_csv(os.path.join(output_data_dir, \"feature_engineered.csv\"), index=False)"
   ]
  }
 ],
 "metadata": {
  "kernelspec": {
   "display_name": "Python 3",
   "language": "python",
   "name": "python3"
  },
  "language_info": {
   "codemirror_mode": {
    "name": "ipython",
    "version": 2
   },
   "file_extension": ".py",
   "mimetype": "text/x-python",
   "name": "python",
   "nbconvert_exporter": "python",
   "pygments_lexer": "ipython2",
   "version": "2.7.6"
  }
 },
 "nbformat": 4,
 "nbformat_minor": 5
}
